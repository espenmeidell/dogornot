{
 "cells": [
  {
   "cell_type": "code",
   "execution_count": 30,
   "metadata": {},
   "outputs": [],
   "source": [
    "import os\n",
    "import pandas as pd\n",
    "from sklearn.model_selection import train_test_split\n",
    "from shutil import copyfile"
   ]
  },
  {
   "cell_type": "markdown",
   "metadata": {},
   "source": [
    "### For images of dogs"
   ]
  },
  {
   "cell_type": "code",
   "execution_count": 26,
   "metadata": {},
   "outputs": [],
   "source": [
    "datasource = \"s3download/\"\n",
    "dog_df = pd.DataFrame(columns=[\"file\"])\n",
    "\n",
    "for idx, file in enumerate(os.listdir(datasource + \"dog/\")):\n",
    "    dog_df.loc[idx] = [datasource + \"dog/\" + file]\n",
    "dog_train, dog_test = train_test_split(dog_df, test_size=0.2)"
   ]
  },
  {
   "cell_type": "markdown",
   "metadata": {},
   "source": [
    "### No dogs"
   ]
  },
  {
   "cell_type": "code",
   "execution_count": 41,
   "metadata": {},
   "outputs": [],
   "source": [
    "no_dog_df = pd.DataFrame(columns=[\"file\"])\n",
    "\n",
    "for idx, file in enumerate(os.listdir(datasource + \"nodog/\")):\n",
    "    no_dog_df.loc[idx] = [datasource + \"nodog/\" + file]\n",
    "no_dog_train, no_dog_test = train_test_split(no_dog_df, test_size=0.2)"
   ]
  },
  {
   "cell_type": "markdown",
   "metadata": {},
   "source": [
    "### Copy files"
   ]
  },
  {
   "cell_type": "code",
   "execution_count": 45,
   "metadata": {},
   "outputs": [],
   "source": [
    "for idx, row in dog_train.iterrows():\n",
    "    frompath = row[\"file\"]\n",
    "    topath = \"data/train/dog/\" + frompath.split(\"/\")[-1]\n",
    "    copyfile(frompath, topath)\n",
    "    \n",
    "for idx, row in dog_test.iterrows():\n",
    "    frompath = row[\"file\"]\n",
    "    topath = \"data/test/dog/\" + frompath.split(\"/\")[-1]\n",
    "    copyfile(frompath, topath)\n",
    "    \n",
    "for idx, row in no_dog_train.iterrows():\n",
    "    frompath = row[\"file\"]\n",
    "    topath = \"data/train/nodog/\" + frompath.split(\"/\")[-1]\n",
    "    copyfile(frompath, topath)\n",
    "    \n",
    "for idx, row in no_dog_test.iterrows():\n",
    "    frompath = row[\"file\"]\n",
    "    topath = \"data/test/nodog/\" + frompath.split(\"/\")[-1]\n",
    "    copyfile(frompath, topath)"
   ]
  },
  {
   "cell_type": "code",
   "execution_count": null,
   "metadata": {},
   "outputs": [],
   "source": []
  }
 ],
 "metadata": {
  "kernelspec": {
   "display_name": "Python 3",
   "language": "python",
   "name": "python3"
  },
  "language_info": {
   "codemirror_mode": {
    "name": "ipython",
    "version": 3
   },
   "file_extension": ".py",
   "mimetype": "text/x-python",
   "name": "python",
   "nbconvert_exporter": "python",
   "pygments_lexer": "ipython3",
   "version": "3.6.5"
  }
 },
 "nbformat": 4,
 "nbformat_minor": 2
}
